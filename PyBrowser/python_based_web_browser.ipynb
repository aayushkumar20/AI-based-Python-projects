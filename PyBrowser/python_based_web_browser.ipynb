{
  "nbformat": 4,
  "nbformat_minor": 0,
  "metadata": {
    "colab": {
      "name": "python based web browser.ipynb",
      "provenance": [],
      "authorship_tag": "ABX9TyOkXwMtmPEagk6aZ8uoReU0",
      "include_colab_link": true
    },
    "kernelspec": {
      "name": "python3",
      "display_name": "Python 3"
    },
    "language_info": {
      "name": "python"
    }
  },
  "cells": [
    {
      "cell_type": "markdown",
      "metadata": {
        "id": "view-in-github",
        "colab_type": "text"
      },
      "source": [
        "<a href=\"https://colab.research.google.com/github/aayushkumar20/AI-based-Python-projects/blob/main/PyBrowser/python_based_web_browser.ipynb\" target=\"_parent\"><img src=\"https://colab.research.google.com/assets/colab-badge.svg\" alt=\"Open In Colab\"/></a>"
      ]
    },
    {
      "cell_type": "code",
      "metadata": {
        "id": "vvsfDJiyErDd"
      },
      "source": [
        "import sys\n",
        "from PyQt5.QtCore import *\n",
        "from PyQt5.QtWidgets import *\n",
        "from PyQt5.QtWebEngineWidgets import *\n",
        "\n",
        "class MainWindow(QMainWindow):\n",
        "    def __init__(self):\n",
        "        super(MainWindow,self).__init__()\n",
        "        self.browser=QWebEngineView()\n",
        "        self.browser.setUrl(QUrl(\"http://www.bing.com\"))\n",
        "        self.setCentralWidget(self.browser)\n",
        "        self.showMaximised()\n",
        "\n",
        "        navbar=QToolBar()\n",
        "        self.addToolBar(navbar)\n",
        "        back_button=QAction('back',self)\n",
        "        back_button.triggered.connect(self.browser.back)\n",
        "        back_button.addAction(back_button)\n",
        "\n",
        "        forward_button=QAction('forward',self)\n",
        "        forward_button.triggered.connect(self.browser.foreward)\n",
        "        forward_button.addAction(forward_button)\n",
        "\n",
        "        reload_button=QAction('reload',self)\n",
        "        reload_button.triggered.connect(self.browser.reload)\n",
        "        reload_button.addAction(reload_button)\n",
        "\n",
        "        home_button=QAction('home',self)  \n",
        "        home_button.triggered.connect(self.browser.home)\n",
        "        home_button.addAction(home_button)\n",
        "\n",
        "        self.url_bar=QLineEdit()\n",
        "        self.url_bar.returnPressed.connect(self.navigate_to_url)\n",
        "        navbar.addWidget(self.url_bar)\n",
        "        self.browser.urlChanged.connect(self.update_url)\n",
        "\n",
        "    def navigate_to_home(self):\n",
        "        self.browser.setUrl(QUrl(\"http://www.google.com\"))\n",
        "\n",
        "    def navigate_to_url(self):\n",
        "        url=self.url_bar.text()\n",
        "        self.browser.setUrl(QUrl(url))\n",
        "\n",
        "    def update_url(self,q):      \n",
        "        self.url_bar.setText(q.toString())\n",
        "\n",
        "app=QApplication(sys.argv)\n",
        "QApplication.setApplicationName('Home Made Browser By (Aayush Kumar)')\n",
        "window=MainWindow()\n",
        "app.exec_()"
      ],
      "execution_count": null,
      "outputs": []
    },
    {
      "cell_type": "code",
      "metadata": {
        "colab": {
          "base_uri": "https://localhost:8080/"
        },
        "id": "xea0iDzzPaXM",
        "outputId": "bddf127c-f960-4405-96b5-1942ee2af211"
      },
      "source": [
        "pip install PyQt5"
      ],
      "execution_count": 1,
      "outputs": [
        {
          "output_type": "stream",
          "name": "stdout",
          "text": [
            "Collecting PyQt5\n",
            "  Downloading PyQt5-5.15.6-cp36-abi3-manylinux1_x86_64.whl (8.3 MB)\n",
            "\u001b[K     |████████████████████████████████| 8.3 MB 7.3 MB/s \n",
            "\u001b[?25hCollecting PyQt5-Qt5>=5.15.2\n",
            "  Downloading PyQt5_Qt5-5.15.2-py3-none-manylinux2014_x86_64.whl (59.9 MB)\n",
            "\u001b[K     |████████████████████████████████| 59.9 MB 1.2 MB/s \n",
            "\u001b[?25hCollecting PyQt5-sip<13,>=12.8\n",
            "  Downloading PyQt5_sip-12.9.0-cp37-cp37m-manylinux1_x86_64.whl (317 kB)\n",
            "\u001b[K     |████████████████████████████████| 317 kB 52.3 MB/s \n",
            "\u001b[?25hInstalling collected packages: PyQt5-sip, PyQt5-Qt5, PyQt5\n",
            "Successfully installed PyQt5-5.15.6 PyQt5-Qt5-5.15.2 PyQt5-sip-12.9.0\n"
          ]
        }
      ]
    }
  ]
}