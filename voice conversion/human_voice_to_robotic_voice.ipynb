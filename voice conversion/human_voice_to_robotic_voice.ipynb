{
  "nbformat": 4,
  "nbformat_minor": 0,
  "metadata": {
    "colab": {
      "name": "human voice to robotic voice.ipynb",
      "provenance": [],
      "authorship_tag": "ABX9TyPOyqyAo+3ugABwtaSk4ccZ",
      "include_colab_link": true
    },
    "kernelspec": {
      "name": "python3",
      "display_name": "Python 3"
    },
    "language_info": {
      "name": "python"
    }
  },
  "cells": [
    {
      "cell_type": "markdown",
      "metadata": {
        "id": "view-in-github",
        "colab_type": "text"
      },
      "source": [
        "<a href=\"https://colab.research.google.com/github/aayushkumar20/Advance-Python-projects/blob/main/voice%20conversion/human_voice_to_robotic_voice.ipynb\" target=\"_parent\"><img src=\"https://colab.research.google.com/assets/colab-badge.svg\" alt=\"Open In Colab\"/></a>"
      ]
    },
    {
      "cell_type": "code",
      "source": [
        "!pip install SpeechRecognition\n",
        "!pip install gTTS\n",
        "#Please install SpeechRecognition before interpreting any further codes.\n",
        "#In case of VS Code please run this command in the terminal."
      ],
      "metadata": {
        "id": "zMpe9KRuVXP3"
      },
      "execution_count": null,
      "outputs": []
    },
    {
      "cell_type": "code",
      "source": [
        "import speech_recognition as sr\n",
        "from gtts import gTTS\n",
        "import os"
      ],
      "metadata": {
        "id": "LEWAlPOQV5KO"
      },
      "execution_count": null,
      "outputs": []
    },
    {
      "cell_type": "markdown",
      "source": [
        "**Importing all the necessary modules**"
      ],
      "metadata": {
        "id": "gXTSCTxQWSRl"
      }
    },
    {
      "cell_type": "code",
      "source": [
        "voice=\"\""
      ],
      "metadata": {
        "id": "n-GA9yvgWQKp"
      },
      "execution_count": null,
      "outputs": []
    },
    {
      "cell_type": "code",
      "source": [
        "while True:\n",
        "    r=sr.Recognizer()\n",
        "    with sr.Microphone() as source:\n",
        "        try:\n",
        "            print(\"Speak Anything : \")\n",
        "            audio=r.listen(source)\n",
        "            Text=r.recognize_google(audio)\n",
        "            print(Text)\n",
        "            if Text==\"stop\":\n",
        "                break\n",
        "            Text=r.recognize_google(audio)\n",
        "            voice=voice+str(Text)\n",
        "        except:\n",
        "            print(\"Say something...\")"
      ],
      "metadata": {
        "id": "0ESMq8-HWo38"
      },
      "execution_count": null,
      "outputs": []
    },
    {
      "cell_type": "markdown",
      "source": [
        "**In above line of code we're using google speech recognition and converting it to rebotic voice**"
      ],
      "metadata": {
        "id": "mKVkaTl_WuOP"
      }
    },
    {
      "cell_type": "code",
      "source": [
        "hr=gTTS(text=voice,lang=\"en\",slow=False)\n",
        "hr.save(\"voice.mp3\")\n",
        "#Here you can change the name of the file as per your choice."
      ],
      "metadata": {
        "id": "N1Ejv1MPYkrT"
      },
      "execution_count": null,
      "outputs": []
    }
  ]
}