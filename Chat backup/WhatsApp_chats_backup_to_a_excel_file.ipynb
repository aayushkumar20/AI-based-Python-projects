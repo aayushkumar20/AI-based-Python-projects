{
  "nbformat": 4,
  "nbformat_minor": 0,
  "metadata": {
    "colab": {
      "name": "WhatsApp chats backup to a excel file.ipynb",
      "provenance": [],
      "authorship_tag": "ABX9TyOkyOSqOs32fJ5Uhp9UUnNz",
      "include_colab_link": true
    },
    "kernelspec": {
      "name": "python3",
      "display_name": "Python 3"
    },
    "language_info": {
      "name": "python"
    }
  },
  "cells": [
    {
      "cell_type": "markdown",
      "metadata": {
        "id": "view-in-github",
        "colab_type": "text"
      },
      "source": [
        "<a href=\"https://colab.research.google.com/github/aayushkumar20/Advance-Python-projects/blob/main/Chat%20backup/WhatsApp_chats_backup_to_a_excel_file.ipynb\" target=\"_parent\"><img src=\"https://colab.research.google.com/assets/colab-badge.svg\" alt=\"Open In Colab\"/></a>"
      ]
    },
    {
      "cell_type": "code",
      "execution_count": null,
      "metadata": {
        "id": "Gjud5PfJh5EQ"
      },
      "outputs": [],
      "source": [
        "!pip install pandas\n",
        "!pip install openpyxl\n",
        "!pip install pushbullet.py == 0.9.1"
      ]
    },
    {
      "cell_type": "code",
      "source": [
        "#Install all this modules for proper functioning.\n",
        "#Setup Pushbullet on both smartphone and computer by creating a login account\n",
        "#Generate and download the API i.e. access token."
      ],
      "metadata": {
        "id": "BLtn46uIicpJ"
      },
      "execution_count": null,
      "outputs": []
    },
    {
      "cell_type": "code",
      "source": [
        "# Import following modules\n",
        "import urllib.request\n",
        "import pandas as pd\n",
        "from pushbullet import PushBullet\n",
        "\n",
        "# Get Access Token from pushbullet.com\n",
        "Access_token = \"Your Access Token\" # Download / copy the API fron the website.\n",
        "\n",
        "# Authentication\n",
        "pb = PushBullet(Access_token)\n",
        "\n",
        "# All pushes created by you\n",
        "all_pushes = pb.get_pushes()\n",
        "\n",
        "# Get the latest push\n",
        "latest_one = all_pushes[0]\n",
        "\n",
        "# Fetch the latest file URL link\n",
        "url = latest_one['file_url']\n",
        "\n",
        "\n",
        "# Create a new text file for storing\n",
        "# all the chats\n",
        "Text_file = \"All_Chats.txt\"\n",
        "\n",
        "# Retrieve all the data store into\n",
        "# Text file\n",
        "urllib.request.urlretrieve(url, Text_file)\n",
        "\n",
        "# Create an empty chat list\n",
        "chat_list = []\n",
        "\n",
        "# Open the Text file in read mode and\n",
        "# read all the data\n",
        "with open(Text_file, mode='r', encoding='utf8') as f:\n",
        "\n",
        "\t# Read all the data line-by-line\n",
        "\tdata = f.readlines()\n",
        "\n",
        "# Excluded the first item of the list\n",
        "# first items contains some garbage\n",
        "# data\n",
        "final_data_set = data[1:]\n",
        "\n",
        "# Run a loop and read all the data\n",
        "# line-by-line\n",
        "for line in final_data_set:\n",
        "\t# Extract the date, time, name,\n",
        "\t# message\n",
        "\tdate = line.split(\",\")[0]\n",
        "\ttim = line.split(\"-\")[0].split(\",\")[1]\n",
        "\tname = line.split(\":\")[1].split(\"-\")[1]\n",
        "\tmessage = line.split(\":\")[2][:-1]\n",
        "\t\n",
        "\t# Append all the data in a List\n",
        "\tchat_list.append([date, tim, name, message])\n",
        "\n",
        "# Create a dataframe, for storing\n",
        "# all the data in a excel file\n",
        "df = pd.DataFrame(chat_list,\n",
        "\t\t\t\tcolumns = ['Date', 'Time',\n",
        "\t\t\t\t\t\t\t'Name', 'Message'])\n",
        "df.to_excel(\"BackUp.xlsx\", index = False)\n"
      ],
      "metadata": {
        "id": "V7V0afc-iagQ"
      },
      "execution_count": null,
      "outputs": []
    }
  ]
}