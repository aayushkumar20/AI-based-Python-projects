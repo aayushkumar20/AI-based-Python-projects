{
  "nbformat": 4,
  "nbformat_minor": 0,
  "metadata": {
    "colab": {
      "name": "Image compressor using python.ipynb",
      "provenance": [],
      "authorship_tag": "ABX9TyMXb0gfKlxwy6g56ZN2N6BN",
      "include_colab_link": true
    },
    "kernelspec": {
      "name": "python3",
      "display_name": "Python 3"
    },
    "language_info": {
      "name": "python"
    }
  },
  "cells": [
    {
      "cell_type": "markdown",
      "metadata": {
        "id": "view-in-github",
        "colab_type": "text"
      },
      "source": [
        "<a href=\"https://colab.research.google.com/github/aayushkumar20/Advance-Python-projects/blob/main/image%20processing/image%20compressor/Image_compressor_using_python.ipynb\" target=\"_parent\"><img src=\"https://colab.research.google.com/assets/colab-badge.svg\" alt=\"Open In Colab\"/></a>"
      ]
    },
    {
      "cell_type": "code",
      "execution_count": 1,
      "metadata": {
        "id": "SMfrPbkadp6W"
      },
      "outputs": [],
      "source": [
        "from tkinter import font\n",
        "from PIL import ImageTk\n",
        "from PIL import Image as PilImage\n",
        "from tkinter import *\n",
        "import tkinter as tk\n",
        "from tkinter import ttk\n",
        "from tkinter import messagebox, filedialog"
      ]
    },
    {
      "cell_type": "code",
      "source": [
        "class ImageCompressor(Tk):\n",
        "    def __init__(self,winTitle,xSize,ySize,*args):\n",
        "        super(ImageCompressor,self).__init__()\n",
        "        if args:\n",
        "            self.configure(bg=args)\n",
        "        self.geometry(f'{xSize}x{ySize}')\n",
        "        self.title(winTitle)\n",
        "        self.resizable(False,False)\n",
        "        self.compressFile=Button(text=\"select image\",command=self.GetImage)\n",
        "        self.compressFile.place(x=25,y=25)\n",
        "        self.chooseQuality=Label(self,text=\"choose quality\",font=(\"Helvetica\",10))\n",
        "        self.chooseQuality.place(x=60,y=70)\n",
        "        self.scaleValue=Scale(self,from_=100,to=0)\n",
        "        self.scaleValue.place(x=0,y=70)\n",
        "        self.saveFolder=Button(text=\"select folder to save image\",command=self.SavedFolder)\n",
        "        self.saveFolder.place(x=62.5,y=100)\n",
        "        self.imageNameLabel=Label(text=\"image name\",font=(\"Helvetica\",10))\n",
        "        self.imageNameLabel.place(x=62.5,y=135)\n",
        "        self.imageName=Entry(self,bd=2)\n",
        "        self.imageName.place(x=62.5,y=150)\n",
        "        self.compressImageBtn=Button(text=\"compress image\",command=self.CompressImage,bd=5)\n",
        "        self.compressImageBtn.place(x=290,y=90)\n",
        "        self.mainloop()\n",
        "    def GetimageFile(self):\n",
        "        self.compressLocation=filedialog.askopenfilename()\n",
        "        if self.compressLocation:\n",
        "            messagebox.showinfo(\"File\",self.compressLocation)\n",
        "        else:\n",
        "            messagebox.showinfo(\"Error\",\"No file selected\")\n",
        "    def SavedFolder(self):\n",
        "        self.saveLocation=filedialog.askdirectory()\n",
        "        if self.saveLocation:\n",
        "            messagebox.showinfo(\"Folder\",self.saveLocation)\n",
        "        else:\n",
        "            messagebox.showinfo(\"Error\",\"No folder selected\")\n",
        "    def CompressImage(self):\n",
        "        self.scaleNum=self.scaleValue.get()\n",
        "        try:\n",
        "            self.imageToCompress=PilImage.open(self.compressLocation)\n",
        "            self.getImageExtension=self.CompressLocation.rsplit(\".\",1)\n",
        "            self.imageExtension=self.getImageExtension[1]\n",
        "            self.imageEntryName=self.imageName.get()\n",
        "            self.imageToCompress.save(f'{self.saveLocation}/{self.imageEntryName}.{self.imageExtension}',quality=self.scaleNum)\n",
        "            messagebox.showinfo(\"Success\",\"Image compressed successfully\")\n",
        "            messagebox.showinfo({self.saveTo})\n",
        "        except:\n",
        "            messagebox.showinfo(\"Error\",\"No image selected\")\n",
        "            messagebox.showinfo(\"Error\",\"something went wrong\")\n",
        "MyNewGUI=ImageCompressor('Image Compressor',500,500)"
      ],
      "metadata": {
        "id": "XzFTKPaieE6G"
      },
      "execution_count": null,
      "outputs": []
    }
  ]
}