{
 "cells": [
  {
   "cell_type": "code",
   "execution_count": 1,
   "metadata": {},
   "outputs": [],
   "source": [
    "import turtle\n",
    "t=turtle.Turtle()\n",
    "s=turtle.Screen()\n",
    "s.bgcolor(\"Black\")\n",
    "t.pencolor(\"yellow\")\n",
    "t.speed(0)\n",
    "\n",
    "for i in range(180):\n",
    "    t.circle(900-i,90)\n",
    "    t.lt(60)\n",
    "    t.circle(900-i,90)\n",
    "    t.lt(18)\n",
    "\n",
    "#It'll make beautiful curved mesh."
   ]
  },
  {
   "cell_type": "code",
   "execution_count": 2,
   "metadata": {},
   "outputs": [],
   "source": [
    "import turtle\n",
    "t=turtle.Turtle()\n",
    "s=turtle.Screen()\n",
    "s.bgcolor(\"Black\")\n",
    "t.pencolor(\"yellow\")\n",
    "t.speed(0)\n",
    "\n",
    "for i in range(150):\n",
    "    t.circle(900-i,90)\n",
    "    t.lt(90)\n",
    "    t.circle(900-i,90)\n",
    "    t.lt(20)\n",
    "\n",
    "#beautiful golden flower design."
   ]
  },
  {
   "cell_type": "code",
   "execution_count": null,
   "metadata": {},
   "outputs": [],
   "source": []
  }
 ],
 "metadata": {
  "kernelspec": {
   "display_name": "Python 3",
   "language": "python",
   "name": "python3"
  },
  "language_info": {
   "codemirror_mode": {
    "name": "ipython",
    "version": 3
   },
   "file_extension": ".py",
   "mimetype": "text/x-python",
   "name": "python",
   "nbconvert_exporter": "python",
   "pygments_lexer": "ipython3",
   "version": "3.8.3"
  }
 },
 "nbformat": 4,
 "nbformat_minor": 4
}
