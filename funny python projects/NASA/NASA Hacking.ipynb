{
  "nbformat": 4,
  "nbformat_minor": 0,
  "metadata": {
    "colab": {
      "name": "Untitled5.ipynb",
      "provenance": [],
      "authorship_tag": "ABX9TyNt55lgcpPzWMecocwch6cY",
      "include_colab_link": true
    },
    "kernelspec": {
      "name": "python3",
      "display_name": "Python 3"
    },
    "language_info": {
      "name": "python"
    }
  },
  "cells": [
    {
      "cell_type": "markdown",
      "metadata": {
        "id": "view-in-github",
        "colab_type": "text"
      },
      "source": [
        "<a href=\"https://colab.research.google.com/github/aayushkumar20/Advance-Python-projects/blob/main/funny%20python%20projects/NASA/NASA%20Hacking.ipynb\" target=\"_parent\"><img src=\"https://colab.research.google.com/assets/colab-badge.svg\" alt=\"Open In Colab\"/></a>"
      ]
    },
    {
      "cell_type": "code",
      "execution_count": null,
      "metadata": {
        "id": "h-mUZQxWjhPv"
      },
      "outputs": [],
      "source": [
        "# Please install tqdm modules before running this script\n",
        "!pip install tqdm"
      ]
    },
    {
      "cell_type": "code",
      "source": [
        "import time\n",
        "from tqdm import trange"
      ],
      "metadata": {
        "id": "pm97e_Ivjp4x"
      },
      "execution_count": 3,
      "outputs": []
    },
    {
      "cell_type": "code",
      "source": [
        "print(\"Hacking NASA...20%\")\n",
        "time.sleep(2)\n",
        "print(\"Hacking NASA...40%\")\n",
        "time.sleep(2)\n",
        "print(\"Hacking NASA...60%\")\n",
        "time.sleep(2)   \n",
        "print(\"Hacking NASA...80%\")\n",
        "time.sleep(2)\n",
        "print(\"Hacking NASA...100%\")\n",
        "time.sleep(2)\n",
        "print(\"Sucessfully hacked NASA\")\n",
        "for i in trange(100):\n",
        "    time.sleep(0.05)\n",
        "time.sleep(1)\n",
        "print(\"Accessing NASA server...\")\n",
        "time.sleep(1)\n",
        "print(\"Getting NASA databases...\")\n",
        "time.sleep(1)\n",
        "print(\"Copying NASA databases to local machine...\")\n",
        "time.sleep(1)\n",
        "print(\"Copying initiated......\")\n",
        "for i in trange(100):\n",
        "    time.sleep(0.05)\n",
        "time.sleep(1)\n",
        "print(\"NASA databases copied successfully\")"
      ],
      "metadata": {
        "id": "3K8S1DLGjtA5"
      },
      "execution_count": null,
      "outputs": []
    }
  ]
}